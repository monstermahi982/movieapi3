{
 "cells": [
  {
   "cell_type": "code",
   "execution_count": 7,
   "metadata": {},
   "outputs": [],
   "source": [
    "import numpy as np\n",
    "import pandas as pd\n",
    "import re"
   ]
  },
  {
   "cell_type": "code",
   "execution_count": 8,
   "metadata": {},
   "outputs": [],
   "source": [
    "df = pd.read_csv('dataA.csv')"
   ]
  },
  {
   "cell_type": "code",
   "execution_count": 9,
   "metadata": {},
   "outputs": [
    {
     "data": {
      "text/html": [
       "<div>\n",
       "<style scoped>\n",
       "    .dataframe tbody tr th:only-of-type {\n",
       "        vertical-align: middle;\n",
       "    }\n",
       "\n",
       "    .dataframe tbody tr th {\n",
       "        vertical-align: top;\n",
       "    }\n",
       "\n",
       "    .dataframe thead th {\n",
       "        text-align: right;\n",
       "    }\n",
       "</style>\n",
       "<table border=\"1\" class=\"dataframe\">\n",
       "  <thead>\n",
       "    <tr style=\"text-align: right;\">\n",
       "      <th></th>\n",
       "      <th>Title</th>\n",
       "      <th>Director</th>\n",
       "      <th>Cast</th>\n",
       "      <th>Year</th>\n",
       "      <th>Genre</th>\n",
       "      <th>combo</th>\n",
       "    </tr>\n",
       "  </thead>\n",
       "  <tbody>\n",
       "    <tr>\n",
       "      <th>4132</th>\n",
       "      <td>shikara - a love letter from kashmir</td>\n",
       "      <td>Vidhu Vinod Chopra</td>\n",
       "      <td>TBA</td>\n",
       "      <td>2019</td>\n",
       "      <td>Historical Romance</td>\n",
       "      <td>TBA Historical Romance</td>\n",
       "    </tr>\n",
       "    <tr>\n",
       "      <th>4133</th>\n",
       "      <td>bala</td>\n",
       "      <td>Amar Kaushik</td>\n",
       "      <td>Ayushmann KhurranaBhumi PednekarYami GautamSau...</td>\n",
       "      <td>2019</td>\n",
       "      <td>Black Comedy</td>\n",
       "      <td>Ayushmann KhurranaBhumi PednekarYami GautamSau...</td>\n",
       "    </tr>\n",
       "    <tr>\n",
       "      <th>4134</th>\n",
       "      <td>pagalpanti</td>\n",
       "      <td>Anees Bazmee</td>\n",
       "      <td>Anil KapoorJohn AbrahamIleana D'CruzArshad War...</td>\n",
       "      <td>2019</td>\n",
       "      <td>Comedy</td>\n",
       "      <td>Anil KapoorJohn AbrahamIleana D'CruzArshad War...</td>\n",
       "    </tr>\n",
       "    <tr>\n",
       "      <th>4135</th>\n",
       "      <td>dil bechara</td>\n",
       "      <td>Mukesh Chhabra</td>\n",
       "      <td>Sushant Singh RajputSanjana SanghiSaif Ali Khan</td>\n",
       "      <td>2019</td>\n",
       "      <td>Romantic drama</td>\n",
       "      <td>Sushant Singh RajputSanjana SanghiSaif Ali Kha...</td>\n",
       "    </tr>\n",
       "    <tr>\n",
       "      <th>4136</th>\n",
       "      <td>jawaani jaaneman</td>\n",
       "      <td>Nitin Kakkar</td>\n",
       "      <td>Saif Ali KhanTabuAlaia Furniturewalla</td>\n",
       "      <td>2019</td>\n",
       "      <td>Romantic drama</td>\n",
       "      <td>Saif Ali KhanTabuAlaia Furniturewalla Romantic...</td>\n",
       "    </tr>\n",
       "    <tr>\n",
       "      <th>4137</th>\n",
       "      <td>panipat</td>\n",
       "      <td>Ashutosh Gowariker</td>\n",
       "      <td>Sanjay DuttArjun KapoorKriti SanonKabir Bedi</td>\n",
       "      <td>2019</td>\n",
       "      <td>Action battle</td>\n",
       "      <td>Sanjay DuttArjun KapoorKriti SanonKabir Bedi A...</td>\n",
       "    </tr>\n",
       "    <tr>\n",
       "      <th>4138</th>\n",
       "      <td>pati, patni aur woh</td>\n",
       "      <td>Mudassar Aziz</td>\n",
       "      <td>Kartik AaryanBhumi PednekarAnanya Panday</td>\n",
       "      <td>2019</td>\n",
       "      <td>Comedy</td>\n",
       "      <td>Kartik AaryanBhumi PednekarAnanya Panday Comedy</td>\n",
       "    </tr>\n",
       "    <tr>\n",
       "      <th>4139</th>\n",
       "      <td>mardaani 2</td>\n",
       "      <td>Gopi Puthran</td>\n",
       "      <td>Rani MukherjeeVikram Singh ChauhanShruti Bapna...</td>\n",
       "      <td>2019</td>\n",
       "      <td>Crime Thriller</td>\n",
       "      <td>Rani MukherjeeVikram Singh ChauhanShruti Bapna...</td>\n",
       "    </tr>\n",
       "    <tr>\n",
       "      <th>4140</th>\n",
       "      <td>dabangg 3</td>\n",
       "      <td>Prabhu Deva</td>\n",
       "      <td>Salman KhanSonakshi SinhaArbaaz KhanMahie Gill...</td>\n",
       "      <td>2019</td>\n",
       "      <td>Action</td>\n",
       "      <td>Salman KhanSonakshi SinhaArbaaz KhanMahie Gill...</td>\n",
       "    </tr>\n",
       "    <tr>\n",
       "      <th>4141</th>\n",
       "      <td>good news</td>\n",
       "      <td>Raj Mehta</td>\n",
       "      <td>Akshay KumarKareena KapoorDiljit DosanjhKiara ...</td>\n",
       "      <td>2019</td>\n",
       "      <td>Comedy</td>\n",
       "      <td>Akshay KumarKareena KapoorDiljit DosanjhKiara ...</td>\n",
       "    </tr>\n",
       "  </tbody>\n",
       "</table>\n",
       "</div>"
      ],
      "text/plain": [
       "                                     Title            Director  \\\n",
       "4132  shikara - a love letter from kashmir  Vidhu Vinod Chopra   \n",
       "4133                                  bala        Amar Kaushik   \n",
       "4134                            pagalpanti        Anees Bazmee   \n",
       "4135                           dil bechara      Mukesh Chhabra   \n",
       "4136                      jawaani jaaneman        Nitin Kakkar   \n",
       "4137                               panipat  Ashutosh Gowariker   \n",
       "4138                   pati, patni aur woh       Mudassar Aziz   \n",
       "4139                            mardaani 2        Gopi Puthran   \n",
       "4140                             dabangg 3         Prabhu Deva   \n",
       "4141                             good news           Raj Mehta   \n",
       "\n",
       "                                                   Cast  Year  \\\n",
       "4132                                                TBA  2019   \n",
       "4133  Ayushmann KhurranaBhumi PednekarYami GautamSau...  2019   \n",
       "4134  Anil KapoorJohn AbrahamIleana D'CruzArshad War...  2019   \n",
       "4135    Sushant Singh RajputSanjana SanghiSaif Ali Khan  2019   \n",
       "4136              Saif Ali KhanTabuAlaia Furniturewalla  2019   \n",
       "4137       Sanjay DuttArjun KapoorKriti SanonKabir Bedi  2019   \n",
       "4138           Kartik AaryanBhumi PednekarAnanya Panday  2019   \n",
       "4139  Rani MukherjeeVikram Singh ChauhanShruti Bapna...  2019   \n",
       "4140  Salman KhanSonakshi SinhaArbaaz KhanMahie Gill...  2019   \n",
       "4141  Akshay KumarKareena KapoorDiljit DosanjhKiara ...  2019   \n",
       "\n",
       "                   Genre                                              combo  \n",
       "4132  Historical Romance                             TBA Historical Romance  \n",
       "4133        Black Comedy  Ayushmann KhurranaBhumi PednekarYami GautamSau...  \n",
       "4134              Comedy  Anil KapoorJohn AbrahamIleana D'CruzArshad War...  \n",
       "4135      Romantic drama  Sushant Singh RajputSanjana SanghiSaif Ali Kha...  \n",
       "4136      Romantic drama  Saif Ali KhanTabuAlaia Furniturewalla Romantic...  \n",
       "4137       Action battle  Sanjay DuttArjun KapoorKriti SanonKabir Bedi A...  \n",
       "4138              Comedy    Kartik AaryanBhumi PednekarAnanya Panday Comedy  \n",
       "4139      Crime Thriller  Rani MukherjeeVikram Singh ChauhanShruti Bapna...  \n",
       "4140              Action  Salman KhanSonakshi SinhaArbaaz KhanMahie Gill...  \n",
       "4141              Comedy  Akshay KumarKareena KapoorDiljit DosanjhKiara ...  "
      ]
     },
     "execution_count": 9,
     "metadata": {},
     "output_type": "execute_result"
    }
   ],
   "source": [
    "df.tail(10)"
   ]
  },
  {
   "cell_type": "code",
   "execution_count": 10,
   "metadata": {},
   "outputs": [
    {
     "data": {
      "text/plain": [
       "'Akshay KumarKareena KapoorDiljit DosanjhKiara Advani Comedy'"
      ]
     },
     "execution_count": 10,
     "metadata": {},
     "output_type": "execute_result"
    }
   ],
   "source": [
    "df['combo'][4141]"
   ]
  },
  {
   "cell_type": "code",
   "execution_count": 21,
   "metadata": {},
   "outputs": [
    {
     "name": "stderr",
     "output_type": "stream",
     "text": [
      "/home/mahesh/anaconda3/lib/python3.7/site-packages/ipykernel_launcher.py:6: SettingWithCopyWarning: \n",
      "A value is trying to be set on a copy of a slice from a DataFrame\n",
      "\n",
      "See the caveats in the documentation: https://pandas.pydata.org/pandas-docs/stable/user_guide/indexing.html#returning-a-view-versus-a-copy\n",
      "  \n"
     ]
    }
   ],
   "source": [
    "i = 1\n",
    "while df.index[i] < df.index[4141]:\n",
    "    \n",
    "    list1 = []\n",
    "    list1 = re.findall('[A-Z][^A-Z]*', str(df['combo'][i]))\n",
    "    df['combo'][i] = ' '.join([str(elem) for elem in list1])\n",
    "    i += 1"
   ]
  },
  {
   "cell_type": "code",
   "execution_count": 23,
   "metadata": {},
   "outputs": [
    {
     "data": {
      "text/plain": [
       "'Salman   Khan  Sonakshi   Sinha  Arbaaz   Khan  Mahie   Gill  Sudeep   Action'"
      ]
     },
     "execution_count": 23,
     "metadata": {},
     "output_type": "execute_result"
    }
   ],
   "source": [
    "df['combo'][4140]"
   ]
  },
  {
   "cell_type": "code",
   "execution_count": 24,
   "metadata": {},
   "outputs": [],
   "source": [
    "from sklearn.feature_extraction.text import CountVectorizer\n",
    "from sklearn.metrics.pairwise import cosine_similarity"
   ]
  },
  {
   "cell_type": "code",
   "execution_count": 25,
   "metadata": {},
   "outputs": [],
   "source": [
    "df['combo'] = df['combo'].replace(np.nan, 'unknown')"
   ]
  },
  {
   "cell_type": "code",
   "execution_count": 26,
   "metadata": {},
   "outputs": [],
   "source": [
    "cv = CountVectorizer()"
   ]
  },
  {
   "cell_type": "code",
   "execution_count": 27,
   "metadata": {},
   "outputs": [],
   "source": [
    "count_matrix = cv.fit_transform(df['combo'])"
   ]
  },
  {
   "cell_type": "code",
   "execution_count": 28,
   "metadata": {},
   "outputs": [
    {
     "data": {
      "text/plain": [
       "<1x893 sparse matrix of type '<class 'numpy.int64'>'\n",
       "\twith 9 stored elements in Compressed Sparse Row format>"
      ]
     },
     "execution_count": 28,
     "metadata": {},
     "output_type": "execute_result"
    }
   ],
   "source": [
    "count_matrix[4140]"
   ]
  },
  {
   "cell_type": "code",
   "execution_count": 29,
   "metadata": {},
   "outputs": [],
   "source": [
    "similarity = cosine_similarity(count_matrix)"
   ]
  },
  {
   "cell_type": "code",
   "execution_count": 30,
   "metadata": {},
   "outputs": [
    {
     "data": {
      "text/plain": [
       "(4142, 4142)"
      ]
     },
     "execution_count": 30,
     "metadata": {},
     "output_type": "execute_result"
    }
   ],
   "source": [
    "similarity.shape"
   ]
  },
  {
   "cell_type": "code",
   "execution_count": 33,
   "metadata": {},
   "outputs": [],
   "source": [
    "i = df.loc[df['Title']=='pati, patni aur woh'].index[0]"
   ]
  },
  {
   "cell_type": "code",
   "execution_count": 34,
   "metadata": {},
   "outputs": [],
   "source": [
    "lst = list(enumerate(similarity[i]))\n",
    "lst = sorted(lst, key = lambda x:x[1] ,reverse=True)"
   ]
  },
  {
   "cell_type": "code",
   "execution_count": 35,
   "metadata": {},
   "outputs": [],
   "source": [
    "lst = lst[1:11]"
   ]
  },
  {
   "cell_type": "code",
   "execution_count": 36,
   "metadata": {},
   "outputs": [],
   "source": [
    " l = []"
   ]
  },
  {
   "cell_type": "code",
   "execution_count": 38,
   "metadata": {},
   "outputs": [],
   "source": [
    "for i in range(len(lst)):\n",
    "            a = lst[i][0]\n",
    "            l.append(df['Title'][a])"
   ]
  },
  {
   "cell_type": "code",
   "execution_count": 39,
   "metadata": {},
   "outputs": [
    {
     "data": {
      "text/plain": [
       "['student of the year 2',\n",
       " 'luka chuppi',\n",
       " 'bala',\n",
       " 'sonu ke titu ki sweety',\n",
       " 'saand ki aankh',\n",
       " 'sonchiriya',\n",
       " 'fryday',\n",
       " 'raja abroadiya',\n",
       " '102 not out',\n",
       " 'dream girl']"
      ]
     },
     "execution_count": 39,
     "metadata": {},
     "output_type": "execute_result"
    }
   ],
   "source": [
    "l"
   ]
  },
  {
   "cell_type": "markdown",
   "metadata": {},
   "source": [
    "Here is the final output :------"
   ]
  },
  {
   "cell_type": "code",
   "execution_count": 40,
   "metadata": {},
   "outputs": [],
   "source": [
    "df.to_csv('final_data.csv',index=False)"
   ]
  },
  {
   "cell_type": "code",
   "execution_count": null,
   "metadata": {},
   "outputs": [],
   "source": []
  }
 ],
 "metadata": {
  "kernelspec": {
   "display_name": "Python 3",
   "language": "python",
   "name": "python3"
  },
  "language_info": {
   "codemirror_mode": {
    "name": "ipython",
    "version": 3
   },
   "file_extension": ".py",
   "mimetype": "text/x-python",
   "name": "python",
   "nbconvert_exporter": "python",
   "pygments_lexer": "ipython3",
   "version": "3.7.6"
  }
 },
 "nbformat": 4,
 "nbformat_minor": 4
}
